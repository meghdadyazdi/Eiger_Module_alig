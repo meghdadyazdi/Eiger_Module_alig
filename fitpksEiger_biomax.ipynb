{
 "cells": [
  {
   "cell_type": "markdown",
   "metadata": {},
   "source": [
    "This notebook fits the diffraction geometry + module geometry to a series of powder patterns (with different beam centers)"
   ]
  },
  {
   "cell_type": "code",
   "execution_count": 10,
   "metadata": {},
   "outputs": [
    {
     "name": "stdout",
     "output_type": "stream",
     "text": [
      "1.23.5\n"
     ]
    }
   ],
   "source": [
    "# %matplotlib widget\n",
    "import matplotlib.pyplot as pl\n",
    "from datetime import datetime\n",
    "import time\n",
    "start = time.time()\n",
    "import numpy as np, os\n",
    "print(np.__version__)\n",
    "from ImageD11 import transform\n",
    "from ImageD11.transformer import transformer\n",
    "from ImageD11.parameters import read_par_file\n",
    "from ImageD11.columnfile import columnfile\n",
    "import h5py\n",
    "import scipy.optimize\n",
    "import fabio\n",
    "%matplotlib inline"
   ]
  },
  {
   "cell_type": "code",
   "execution_count": 11,
   "metadata": {},
   "outputs": [
    {
     "data": {
      "text/plain": [
       "12.700082106417474"
      ]
     },
     "execution_count": 11,
     "metadata": {},
     "output_type": "execute_result"
    }
   ],
   "source": [
    "wl = 0.9762535309700807\n",
    "12.3985/12.700082106417474 # keV : approximate wavelength\n",
    "12.3985/wl # Å : approximate energy\n"
   ]
  },
  {
   "cell_type": "code",
   "execution_count": 12,
   "metadata": {},
   "outputs": [
    {
     "name": "stdout",
     "output_type": "stream",
     "text": [
      "cell__a 4.156826\n",
      "cell__b 4.156826\n",
      "cell__c 4.156826\n",
      "cell_alpha 90.0\n",
      "cell_beta 90.0\n",
      "cell_gamma 90.0\n",
      "cell_lattice_[P,A,B,C,I,F,R] P\n",
      "chi 0.0\n",
      "distance 146.96714707759696\n",
      "fit_tolerance 0.025\n",
      "min_bin_prob 1e-05\n",
      "no_bins 10000\n",
      "o11 1\n",
      "o12 0\n",
      "o21 0\n",
      "o22 -1\n",
      "omegasign 1.0\n",
      "t_x 0\n",
      "t_y 0\n",
      "t_z 0\n",
      "tilt_x 1.4834851722994806e-06\n",
      "tilt_y 0.0007732509695985323\n",
      "tilt_z -0.0016449807968716723\n",
      "wavelength 0.9762535309700807\n",
      "wedge 0.0\n",
      "weight_hist_intensities 0\n",
      "y_center 2094.1125353801635\n",
      "y_size 0.075\n",
      "z_center 2120.0344847933484\n",
      "z_size 0.075\n"
     ]
    }
   ],
   "source": [
    "#   Creat par files from PONI file pyFAI\n",
    "    \n",
    "\n",
    "pixel1 =  7.4999999999999995e-05\n",
    "pixel2 = 7.4999999999999995e-05\n",
    "Wavelength = 9.762535309700807e-11\n",
    "\n",
    "# par/1.par\n",
    "Distance = 0.1469669042968765\n",
    "Poni1 = 0.15888894388184904\n",
    "Poni2 = 0.15730019810691892\n",
    "Rot1 = 0.0016449807968716723\n",
    "Rot2 = 0.0007732509695985323\n",
    "Rot3 = 1.4834851722994806e-06\n",
    "\n",
    "\n",
    "# par/1.par\n",
    "# Distance = 0.146985549292152\n",
    "# Poni1 = 0.15887909767411623\n",
    "# Poni2 = 0.11720502785985053\n",
    "# Rot1 = 0.0011568701681032478\n",
    "# Rot2 = 0.0007863706042899544\n",
    "# Rot3 = 2.937075750053691e-10\n",
    "\n",
    "\n",
    "# par/2.par\n",
    "# Distance = 0.14700536763721697\n",
    "# Poni1 = 0.19936408682389326\n",
    "# Poni2 = 0.11722191471270342\n",
    "# Rot1 = 0.0012135697775101859\n",
    "# Rot2 = 0.0010562058484545475\n",
    "# Rot3 = -2.4374960375501512e-09\n",
    "\n",
    "\n",
    "# par/3.par\n",
    "# Distance = 0.1470438827119443\n",
    "# Poni1 = 0.23930389773515182\n",
    "# Poni2 = 0.11721099149214317\n",
    "# Rot1 = 0.0011045084838636268\n",
    "# Rot2 = 0.0012472885814468783\n",
    "# Rot3 = -6.940738623584151e-10\n",
    "\n",
    "\n",
    "# par/4.par\n",
    "# Distance = 0.14702122160296238\n",
    "# Poni1 = 0.2393194355972989\n",
    "# Poni2 = 0.1573433827509926\n",
    "# Rot1 = 0.0017515329654952832\n",
    "# Rot2 = 0.0012620019424374772\n",
    "# Rot3 = 1.7588218803788978e-07\n",
    "\n",
    "\n",
    "# par/5.par\n",
    "# Distance = 0.14698380738892386\n",
    "# Poni1 = 0.19937742723728372\n",
    "# Poni2 = 0.15732383533080238\n",
    "# Rot1 = 0.001700416800773225\n",
    "# Rot2 = 0.0010709132087503377\n",
    "# Rot3 = 8.721689967354811e-07\n",
    "\n",
    "\n",
    "cos_tilt = np.cos(Rot1) * np.cos(Rot2)\n",
    "\n",
    "sin_tilt = np.sqrt(1.0 - cos_tilt * cos_tilt)\n",
    "tan_tilt = sin_tilt / cos_tilt\n",
    "\n",
    "# This is tilt plane rotation\n",
    "if sin_tilt == 0:\n",
    "    # tilt plan rotation is undefined when there is no tilt!, does not matter\n",
    "    cos_tilt = 1.0\n",
    "    sin_tilt = 0.0\n",
    "    cos_tpr = 1.0\n",
    "    sin_tpr = 0.0\n",
    "\n",
    "else:\n",
    "    cos_tpr = max(-1.0, min(1.0, -np.cos(Rot2) * np.sin(Rot1) / sin_tilt))\n",
    "    sin_tpr = np.sin(Rot2) / sin_tilt\n",
    "# print(Distance , cos_tilt)\n",
    "directDist = 1.0e3 * Distance / cos_tilt\n",
    "tilt = np.degrees(np.arccos(cos_tilt))\n",
    "if sin_tpr < 0:\n",
    "    tpr = -np.degrees(np.arccos(cos_tpr))\n",
    "else:\n",
    "    tpr = np.degrees(np.arccos(cos_tpr))\n",
    "\n",
    "centerX = (Poni2 + Distance * tan_tilt * cos_tpr) / pixel2\n",
    "if abs(tilt) < 1e-5:  # in degree\n",
    "    centerY = (Poni1) / detector.pixel1\n",
    "else:\n",
    "    centerY = (Poni1 + Distance * tan_tilt * sin_tpr) / pixel1\n",
    "\n",
    "print('cell__a', 4.15682600)\n",
    "print('cell__b', 4.15682600)\n",
    "print('cell__c', 4.15682600)\n",
    "print('cell_alpha', 90.0)\n",
    "print('cell_beta', 90.0)\n",
    "print('cell_gamma', 90.0)\n",
    "print('cell_lattice_[P,A,B,C,I,F,R]', 'P')\n",
    "print('chi', 0.0)\n",
    "print('distance', directDist)\n",
    "print('fit_tolerance', 0.025)\n",
    "print('min_bin_prob', 1e-05)\n",
    "print('no_bins', 10000)\n",
    "print('o11', 1)\n",
    "print('o12', 0)\n",
    "print('o21', 0)\n",
    "print('o22', -1)\n",
    "print('omegasign', 1.0)\n",
    "print('t_x', 0)\n",
    "print('t_y', 0)\n",
    "print('t_z', 0)\n",
    "print('tilt_x', Rot3)\n",
    "print('tilt_y', Rot2)\n",
    "print('tilt_z', -Rot1)\n",
    "print('wavelength', Wavelength * 1.0e10)\n",
    "print('wedge', 0.0)\n",
    "print('weight_hist_intensities', 0)\n",
    "print('y_center', centerX)\n",
    "print('y_size', 0.075)\n",
    "print('z_center', centerY)\n",
    "print('z_size', 0.075)"
   ]
  },
  {
   "cell_type": "code",
   "execution_count": 14,
   "metadata": {},
   "outputs": [
    {
     "data": {
      "text/plain": [
       "[1, 2, 3, 4]"
      ]
     },
     "execution_count": 14,
     "metadata": {},
     "output_type": "execute_result"
    }
   ],
   "source": [
    "# choose the frames from 6 frames\n",
    "# frms = [1,2,3,4,5,6]\n",
    "frms = [1,2,3,4]\n",
    "frms"
   ]
  },
  {
   "cell_type": "code",
   "execution_count": 15,
   "metadata": {},
   "outputs": [
    {
     "data": {
      "application/vnd.jupyter.widget-view+json": {
       "model_id": "6b5a14ccc6804a60916d91b04fd46b08",
       "version_major": 2,
       "version_minor": 0
      },
      "text/plain": [
       "Canvas(toolbar=Toolbar(toolitems=[('Home', 'Reset original view', 'home', 'home'), ('Back', 'Back to previous …"
      ]
     },
     "metadata": {},
     "output_type": "display_data"
    },
    {
     "name": "stdout",
     "output_type": "stream",
     "text": [
      "-----pks----- (114680,)\n",
      "---filtered--- (109146,)\n",
      "np.unique(c.ihkl2) [ 1.  2.  3.  4.  5.  6.  8.  9. 10. 11. 12. 13. 14. 16.]\n",
      "\n",
      "-----pks----- (110382,)\n",
      "---filtered--- (104671,)\n",
      "np.unique(c.ihkl2) [ 1.  2.  3.  4.  5.  6.  8.  9. 10. 11. 12. 13. 14. 16. 17. 18.]\n",
      "\n",
      "-----pks----- (107923,)\n",
      "---filtered--- (102067,)\n",
      "np.unique(c.ihkl2) [ 1.  2.  3.  4.  5.  6.  8.  9. 10. 11. 12. 13. 14. 16. 17. 18. 19.]\n",
      "\n",
      "-----pks----- (104330,)\n",
      "---filtered--- (96087,)\n",
      "np.unique(c.ihkl2) [ 1.  2.  3.  4.  5.  6.  8.  9. 10. 11. 12. 13. 14. 16. 17. 18. 19. 20.]\n",
      "\n"
     ]
    }
   ],
   "source": [
    "# created via moduleSpatialPeakSearch\n",
    "f, ((a3, a4),(a1,a2)) = pl.subplots(2,2,figsize=(10,10))\n",
    "cf = {}\n",
    "a0 = 4.15682600\n",
    "ds0 = a0*a0\n",
    "for i in frms:\n",
    "    # Load the peaks and parameters:\n",
    "    c = columnfile( 'eigerSpatial/flt/%d.flt'%(i) )\n",
    "    print('-----pks-----', c.sc.shape)\n",
    "    c.parameters.loadparameters('eigerSpatial/par/%d.par'%(i) )\n",
    "    c.updateGeometry()\n",
    "    # Create column of frame number\n",
    "    c.addcolumn(np.ones(c.nrows)*i,'frame')\n",
    "    # (d*_obs)^2 / (a_0)^2 from cubic hkl to d-spacing formula\n",
    "    c.addcolumn(np.ones(c.nrows)*c.ds**2*ds0,'hkl2')\n",
    "    # nearest integers == fit target values\n",
    "    c.addcolumn(np.round(c.hkl2),'ihkl2')\n",
    "    # something like a strain\n",
    "    se = abs( c.ihkl2 - c.hkl2 )/np.where( c.ihkl2 > 0, c.ihkl2, 1)\n",
    "    a3.plot(c.hkl2, se, \",\")\n",
    "    a4.plot(c.hkl2, c.eta, \",\")\n",
    "    c.filter((c.Number_of_pixels>7) & (c.ihkl2>0) &  (se<6e-3) )\n",
    "    print('---filtered---', c.sc.shape)\n",
    "    # c.filter((c.Number_of_pixels>7) & (c.ihkl2>2) &  (se<2e-3) ) # original\n",
    "    a1.plot(c.fc,c.sc,',')\n",
    "    a2.plot(c.hkl2,c.eta,',')\n",
    "    cf[i] = c\n",
    "    print('np.unique(c.ihkl2)', np.unique(c.ihkl2))\n",
    "    print()\n",
    "    uihkl2 = np.unique(c.ihkl2)\n",
    "a1.set(title='Peaks on detector', ylabel='sc', xlabel='fc')\n",
    "a2.set(title='Selected peaks', ylabel='azimuth / deg', xlabel='$H^2$')\n",
    "a3.set(yscale='log', ylim=(1e-6,1), title='relative error', ylabel='$\\Delta H^2/H^2$', xlabel='$H^2$')\n",
    "_ = a4.set(title='All peaks', ylabel='azimuth / deg', xlabel='$H^2$')\n"
   ]
  },
  {
   "cell_type": "code",
   "execution_count": 16,
   "metadata": {},
   "outputs": [
    {
     "data": {
      "text/plain": [
       "(411971, 411971)"
      ]
     },
     "execution_count": 16,
     "metadata": {},
     "output_type": "execute_result"
    }
   ],
   "source": [
    "# put together all of the peaks:\n",
    "allpks = np.concatenate( [cf[f].bigarray for f in frms], axis=1)\n",
    "# ... and place them into an ImageD11 colummfile object\n",
    "allc = c.copy()\n",
    "allc.set_bigarray(allpks)\n",
    "allc.nrows, np.sum([cf[f].nrows for f in frms])"
   ]
  },
  {
   "cell_type": "code",
   "execution_count": 17,
   "metadata": {},
   "outputs": [
    {
     "data": {
      "application/vnd.jupyter.widget-view+json": {
       "model_id": "963758b6d9bf42abb55ea1ab6ffa9398",
       "version_major": 2,
       "version_minor": 0
      },
      "text/plain": [
       "Canvas(toolbar=Toolbar(toolitems=[('Home', 'Reset original view', 'home', 'home'), ('Back', 'Back to previous …"
      ]
     },
     "metadata": {},
     "output_type": "display_data"
    },
    {
     "name": "stdout",
     "output_type": "stream",
     "text": [
      "(411971,)\n",
      "(411971,)\n",
      "3.6269994484182595\n"
     ]
    },
    {
     "data": {
      "application/vnd.jupyter.widget-view+json": {
       "model_id": "c35c4417f82f47e58581c94057690abc",
       "version_major": 2,
       "version_minor": 0
      },
      "text/plain": [
       "Canvas(toolbar=Toolbar(toolitems=[('Home', 'Reset original view', 'home', 'home'), ('Back', 'Back to previous …"
      ]
     },
     "metadata": {},
     "output_type": "display_data"
    },
    {
     "data": {
      "text/plain": [
       "[<matplotlib.lines.Line2D at 0x1543dc1229e0>]"
      ]
     },
     "execution_count": 17,
     "metadata": {},
     "output_type": "execute_result"
    }
   ],
   "source": [
    "# Remove \"bad\" peaks from virtual shared pixels\n",
    "# for col in 255.5, 513.5, 771.5, 1295.5, 1553.5, 1811.5:\n",
    "#     allc.filter(abs(allc.fc-col)>2.1)\n",
    "# for row in 255.5, 805.5, 1355.5, 1905.5:\n",
    "#     allc.filter(abs(allc.sc-row)>2.1)\n",
    "pl.figure(2)\n",
    "print(allc.fc.shape)\n",
    "print(allc.sc.shape)\n",
    "print(np.linalg.norm(allc.ihkl2-allc.hkl2))\n",
    "# print(allc,allc.fc,allc.ihkl2, allc.hkl2)\n",
    "pl.plot(allc.fc,allc.ihkl2-allc.hkl2, ',', alpha=0.2)\n",
    "pl.figure(3)\n",
    "pl.plot(allc.sc,allc.ihkl2-allc.hkl2, ',', alpha=0.2)"
   ]
  },
  {
   "cell_type": "code",
   "execution_count": 18,
   "metadata": {},
   "outputs": [
    {
     "data": {
      "application/vnd.jupyter.widget-view+json": {
       "model_id": "9c18bf4b00144788b0a138570df0bdaa",
       "version_major": 2,
       "version_minor": 0
      },
      "text/plain": [
       "Canvas(toolbar=Toolbar(toolitems=[('Home', 'Reset original view', 'home', 'home'), ('Back', 'Back to previous …"
      ]
     },
     "metadata": {},
     "output_type": "display_data"
    },
    {
     "data": {
      "text/plain": [
       "[<matplotlib.lines.Line2D at 0x1543dc19d330>]"
      ]
     },
     "execution_count": 18,
     "metadata": {},
     "output_type": "execute_result"
    }
   ],
   "source": [
    "pl.figure()\n",
    "pl.plot(allc.hkl2,allc.eta,',')\n",
    "pl.plot(allc.ihkl2,allc.eta,',')"
   ]
  },
  {
   "cell_type": "code",
   "execution_count": 19,
   "metadata": {},
   "outputs": [
    {
     "name": "stdout",
     "output_type": "stream",
     "text": [
      "[1. 2. 3. 4.] [ 0.  1.  2.  3.  4.  5.  6.  7.  8.  9. 10. 11. 12. 13. 14. 15. 16. 17.\n",
      " 18. 19. 20. 21. 22. 23. 24. 25. 26. 27. 28. 29. 30. 31.]\n"
     ]
    }
   ],
   "source": [
    "frm = np.unique(allc.frame)\n",
    "modu = np.unique(allc.module)\n",
    "print(frm, modu)"
   ]
  },
  {
   "cell_type": "code",
   "execution_count": 20,
   "metadata": {},
   "outputs": [
    {
     "name": "stdout",
     "output_type": "stream",
     "text": [
      "\n",
      "\n",
      "1:distance/a 35.35561678010986\n",
      "1:y_center 2094.1125353801635\n",
      "1:z_center 2120.0344847933484\n",
      "1:tilt_y 0.0007732509695985323\n",
      "1:tilt_z -0.0016449807968716723\n",
      "2:distance/a 35.36007836208887\n",
      "2:y_center 1560.4664611583082\n",
      "2:z_center 2119.9291052067574\n",
      "2:tilt_y 0.0007863706042899544\n",
      "2:tilt_z -0.0011568701681032478\n",
      "3:distance/a 35.36485719778139\n",
      "3:y_center 1560.5801780510244\n",
      "3:z_center 2660.2580656669206\n",
      "3:tilt_y 0.0010562058484545475\n",
      "3:tilt_z -0.0012135697775101859\n",
      "4:distance/a 35.37412602418738\n",
      "4:y_center 1560.6477361352484\n",
      "4:z_center 3193.1640546401663\n",
      "4:tilt_y 0.0012472885814468783\n",
      "4:tilt_z -0.0011045084838636268\n",
      "a0 4.156826\n",
      "M[0,0] 0.0\n",
      "M[0,1] 0.0\n",
      "M[0,2] 0.0\n",
      "M[1,0] 0.0\n",
      "M[1,1] 0.0\n",
      "M[1,2] 0.0\n",
      "M[2,0] 0.0\n",
      "M[2,1] 0.0\n",
      "M[2,2] 0.0\n",
      "M[3,0] 0.0\n",
      "M[3,1] 0.0\n",
      "M[3,2] 0.0\n",
      "M[4,0] 0.0\n",
      "M[4,1] 0.0\n",
      "M[4,2] 0.0\n",
      "M[5,0] 0.0\n",
      "M[5,1] 0.0\n",
      "M[5,2] 0.0\n",
      "M[6,0] 0.0\n",
      "M[6,1] 0.0\n",
      "M[6,2] 0.0\n",
      "M[7,0] 0.0\n",
      "M[7,1] 0.0\n",
      "M[7,2] 0.0\n",
      "M[8,0] 0.0\n",
      "M[8,1] 0.0\n",
      "M[8,2] 0.0\n",
      "M[9,0] 0.0\n",
      "M[9,1] 0.0\n",
      "M[9,2] 0.0\n",
      "M[10,0] 0.0\n",
      "M[10,1] 0.0\n",
      "M[10,2] 0.0\n",
      "M[11,0] 0.0\n",
      "M[11,1] 0.0\n",
      "M[11,2] 0.0\n",
      "M[12,0] 0.0\n",
      "M[12,1] 0.0\n",
      "M[12,2] 0.0\n",
      "M[13,0] 0.0\n",
      "M[13,1] 0.0\n",
      "M[13,2] 0.0\n",
      "M[14,0] 0.0\n",
      "M[14,1] 0.0\n",
      "M[14,2] 0.0\n",
      "M[15,0] 0.0\n",
      "M[15,1] 0.0\n",
      "M[15,2] 0.0\n",
      "M[16,0] 0.0\n",
      "M[16,1] 0.0\n",
      "M[16,2] 0.0\n",
      "M[17,0] 0.0\n",
      "M[17,1] 0.0\n",
      "M[17,2] 0.0\n",
      "M[18,0] 0.0\n",
      "M[18,1] 0.0\n",
      "M[18,2] 0.0\n",
      "M[19,0] 0.0\n",
      "M[19,1] 0.0\n",
      "M[19,2] 0.0\n",
      "M[20,0] 0.0\n",
      "M[20,1] 0.0\n",
      "M[20,2] 0.0\n",
      "M[21,0] 0.0\n",
      "M[21,1] 0.0\n",
      "M[21,2] 0.0\n",
      "M[22,0] 0.0\n",
      "M[22,1] 0.0\n",
      "M[22,2] 0.0\n",
      "M[23,0] 0.0\n",
      "M[23,1] 0.0\n",
      "M[23,2] 0.0\n",
      "M[24,0] 0.0\n",
      "M[24,1] 0.0\n",
      "M[24,2] 0.0\n",
      "M[25,0] 0.0\n",
      "M[25,1] 0.0\n",
      "M[25,2] 0.0\n",
      "M[26,0] 0.0\n",
      "M[26,1] 0.0\n",
      "M[26,2] 0.0\n",
      "M[27,0] 0.0\n",
      "M[27,1] 0.0\n",
      "M[27,2] 0.0\n",
      "M[28,0] 0.0\n",
      "M[28,1] 0.0\n",
      "M[28,2] 0.0\n",
      "M[29,0] 0.0\n",
      "M[29,1] 0.0\n",
      "M[29,2] 0.0\n",
      "M[30,0] 0.0\n",
      "M[30,1] 0.0\n",
      "M[30,2] 0.0\n"
     ]
    }
   ],
   "source": [
    "# set up a fitting problem : these parameters will be fed to the calchkl2 routine below\n",
    "\n",
    "# distance, tilts, centers for each image \n",
    "pars = [ ]\n",
    "pnames = [ ]\n",
    "for f in frm:\n",
    "    pars.append( cf[f].parameters.get('distance') / a0 ) # distance scaled on lattice\n",
    "    pnames.append( '%d:distance/a'%(f) )\n",
    "    for pname in 'y_center z_center tilt_y tilt_z'.split():\n",
    "        pars.append( cf[f].parameters.get(pname) )\n",
    "        pnames.append( '%d:%s'%(f, pname) )\n",
    "\n",
    "pars.append( a0 ) # effectively the wavelength\n",
    "pnames.append( 'a0' )\n",
    "framepars = len(pars)\n",
    "nframes = len(cf.keys())\n",
    "pars += [0. for i in range(31*3)] # 32 module centers and tilts, BUT LAST IS FIXED\n",
    "pnames += [\"M[%d,%d]\"%(i,j) for i in range(31) for j in range(3) ]\n",
    "print()\n",
    "print()\n",
    "for n,v in zip(pnames, pars):\n",
    "    print(n,v)\n",
    "# offset, rotation for each module"
   ]
  },
  {
   "cell_type": "code",
   "execution_count": 21,
   "metadata": {},
   "outputs": [],
   "source": [
    "def module(a,i,j):\n",
    "    #p = padding around the outside for debug\n",
    "    fs = 1030\n",
    "    ss = 514\n",
    "    fo = [ 0,  10,   20,   30]\n",
    "    so = [ 0, 37, 2*37, 37*3, 37*4, 37*5, 37*6, 37*7]\n",
    "    f = fs*j + fo[j]\n",
    "    s = ss*i + so[i]\n",
    "    return a[s:s+ss,f:f+fs]\n",
    "\n",
    "def module_center( i, j ):\n",
    "    fs = 1030\n",
    "    ss = 514\n",
    "    fo = np.array([ 0,  10,   20,   30])\n",
    "    so = np.array([ 0, 37, 2*37, 37*3, 37*4, 37*5, 37*6, 37*7])\n",
    "    return so[i] + ss*(i+0.5), fo[j] + fs*(j+0.5)\n",
    "\n",
    "def mp31_32( p31 ):\n",
    "    \"\"\" Compute the parameters of module 16 from the other 15 \n",
    "    We set the sum of all 16 to be zero\n",
    "    \"\"\"\n",
    "    p32 = np.array(list(p31) + [0,0,0]).reshape( (32, 3) ) \n",
    "    p32[-1,:] = -np.sum(p32, axis=0) # last module is fixed to make mean zero\n",
    "    # print('p32.shape',p32.shape)\n",
    "    return p32\n",
    "    \n",
    "    \n",
    "def do_spatial(s_raw, f_raw, m, modpars):\n",
    "    \"\"\"\n",
    "    s_raw = co-ordinate in the slow pixel direction\n",
    "    f_raw = co-ordinate in the fast pixel direction\n",
    "    m = module for this peak (in the range 0,31 for Eiger16M)\n",
    "    modpars = spatial parameters (offset_slow, offset_fast, angle_rad)\n",
    "    \"\"\"\n",
    "    j = m // 8\n",
    "    i = m % 8\n",
    "    cs, cf = module_center( i, j )\n",
    "    shift_s = np.array( modpars[:,0] )\n",
    "    shift_f = np.array( modpars[:,1] )\n",
    "    ds = s_raw[:] - cs + shift_s[m]\n",
    "    df = f_raw[:] - cf + shift_f[m]\n",
    "    rotates = modpars[:,2]\n",
    "    sinr = np.sin(rotates)\n",
    "    cosr = np.cos(rotates)\n",
    "    dsr =  cosr[m] * ds  + sinr[m] * df\n",
    "    dfr = -sinr[m] * ds  + cosr[m] * df\n",
    "    sc = dsr + cs\n",
    "    fc = dfr + cf\n",
    "    return sc,fc    \n",
    "\n",
    "def calchkl2( colf, *args ):\n",
    "    \"\"\"\n",
    "    colf = columnfile (table) containing labelled peaks\n",
    "    *args = parameters to be fitted\n",
    "    \"\"\"\n",
    "    fpars = np.array(list(args))\n",
    "    global framepars, frm # above\n",
    "    modpars = mp31_32(fpars[framepars:]) # make last module == sum of previous\n",
    "    ycalc = np.zeros(colf.nrows, float)\n",
    "    # apply the current spatial correction\n",
    "    m = colf.module[:].astype(int)\n",
    "    \n",
    "    sc, fc = do_spatial( colf.s_raw, colf.f_raw, m, modpars )\n",
    "    w = 0.9762535309700807\n",
    "    a0 = fpars[framepars-1]\n",
    "    for k,rf in enumerate(frm):\n",
    "        f = int(rf)\n",
    "        lo = np.searchsorted( colf.frame, f )   # assume data still sorted by frame\n",
    "        hi = np.searchsorted( colf.frame, f+1 )\n",
    "        # compute x,y,z laboratory\n",
    "        x,y,z = transform.compute_xyz_lab( (sc[lo:hi], fc[lo:hi]), \n",
    "                                               distance = fpars[k*5]*a0, # take out ds0 again\n",
    "                                               y_center = fpars[k*5+1],\n",
    "                                               z_center = fpars[k*5+2],\n",
    "                                               y_size=0.075, z_size=0.075,\n",
    "                                               tilt_y = fpars[k*5+3],\n",
    "                                               tilt_z = fpars[k*5+4],\n",
    "                                               tilt_x = 0,\n",
    "                                               o11=1,o12=0,o21=0,o22=-1 )\n",
    "        # radius:\n",
    "        r = np.sqrt(y*y + z*z)\n",
    "        # two theta:\n",
    "        tthrad = np.arctan2(r, x)\n",
    "        # wvln = 2*d*sin(th)\n",
    "        # 1/d = 2*sin(th)/wvln\n",
    "        # c.ds**2*ds0\n",
    "        ds = 2*np.sin( tthrad/2 ) / w\n",
    "        ycalc[lo:hi] = ds*ds*a0*a0\n",
    "    scor = np.mean((ycalc - colf.ihkl2)**2)\n",
    "    strain = (ycalc - colf.ihkl2)/colf.ihkl2  # approximately zero\n",
    "    return strain"
   ]
  },
  {
   "cell_type": "code",
   "execution_count": 22,
   "metadata": {},
   "outputs": [
    {
     "name": "stdout",
     "output_type": "stream",
     "text": [
      "allc.shape (411971,)\n",
      "yc.shape (411971,)\n"
     ]
    },
    {
     "data": {
      "application/vnd.jupyter.widget-view+json": {
       "model_id": "82b86bfa88c54752b386bd2b43bc3b92",
       "version_major": 2,
       "version_minor": 0
      },
      "text/plain": [
       "Canvas(toolbar=Toolbar(toolitems=[('Home', 'Reset original view', 'home', 'home'), ('Back', 'Back to previous …"
      ]
     },
     "metadata": {},
     "output_type": "display_data"
    },
    {
     "data": {
      "application/vnd.jupyter.widget-view+json": {
       "model_id": "64910e87ebc64f66a899071460cbc985",
       "version_major": 2,
       "version_minor": 0
      },
      "text/plain": [
       "Canvas(toolbar=Toolbar(toolitems=[('Home', 'Reset original view', 'home', 'home'), ('Back', 'Back to previous …"
      ]
     },
     "metadata": {},
     "output_type": "display_data"
    },
    {
     "data": {
      "text/plain": [
       "[]"
      ]
     },
     "execution_count": 22,
     "metadata": {},
     "output_type": "execute_result"
    }
   ],
   "source": [
    "print('allc.shape', allc.sc.shape)\n",
    "yc = calchkl2( allc, *pars )\n",
    "print('yc.shape', yc.shape)\n",
    "\n",
    "\n",
    "pl.figure()\n",
    "pl.plot(allc.eta, yc*allc.ihkl2+allc.ihkl2, \",\")\n",
    "pl.plot(allc.eta,allc.ihkl2,',')\n",
    "pl.figure()\n",
    "pl.hist(yc,bins=1024)\n",
    "pl.semilogy()"
   ]
  },
  {
   "cell_type": "code",
   "execution_count": 23,
   "metadata": {
    "scrolled": true
   },
   "outputs": [
    {
     "name": "stdout",
     "output_type": "stream",
     "text": [
      "time 2023-09-27 12:13:47\n",
      "toc 41.09238362312317\n"
     ]
    }
   ],
   "source": [
    "avgi = allc.sum_intensity / allc.Number_of_pixels   # average intensity in a peak \n",
    "# sigma = avgi/avgi.max()                             # relative weights\n",
    "sigma = np.sqrt(avgi/avgi.max())\n",
    "\n",
    "# print(np.max(avgi))\n",
    "# print(np.min(sigma))\n",
    "tic = time.time()\n",
    "fpars, matrx = scipy.optimize.curve_fit( calchkl2,               # function to fit\n",
    "                               allc,                    # 'x' argument to function \n",
    "                               np.zeros(allc.nrows),    # y_obs values (integer hkls)  \n",
    "                               pars,                    # parameters to be fitted\n",
    "                               sigma = sigma  )\n",
    "\n",
    "print('time', datetime.now().strftime(\"%Y-%m-%d %H:%M:%S\"))\n",
    "print('toc', time.time()-tic)"
   ]
  },
  {
   "cell_type": "code",
   "execution_count": 24,
   "metadata": {},
   "outputs": [
    {
     "data": {
      "application/vnd.jupyter.widget-view+json": {
       "model_id": "d0cee891b71b466587d46413bbd25453",
       "version_major": 2,
       "version_minor": 0
      },
      "text/plain": [
       "Canvas(toolbar=Toolbar(toolitems=[('Home', 'Reset original view', 'home', 'home'), ('Back', 'Back to previous …"
      ]
     },
     "metadata": {},
     "output_type": "display_data"
    },
    {
     "name": "stdout",
     "output_type": "stream",
     "text": [
      "Correlation above 80%\n",
      "2:distance/a 1:distance/a 0.9331421967696724\n",
      "2:z_center 1:z_center 0.8153178241246736\n",
      "3:distance/a 1:distance/a 0.8875309056369072\n",
      "3:distance/a 2:distance/a 0.9271630152879808\n",
      "3:z_center 2:z_center 0.8741884135709709\n",
      "4:distance/a 3:distance/a 0.8620740162016977\n",
      "4:y_center 3:y_center 0.8425158963275029\n",
      "4:z_center 3:z_center 0.8961237234834956\n",
      "a0 1:distance/a 0.8075857980080123\n",
      "M[1,2] M[1,0] -0.87873257474843\n",
      "M[2,2] M[2,0] -0.8972115415682137\n",
      "M[3,2] M[3,0] -0.9108017218726308\n",
      "M[5,2] M[5,0] -0.8650409915153768\n",
      "M[6,2] M[6,0] -0.9008423188247624\n",
      "M[7,2] M[7,0] -0.8819823471814835\n",
      "M[9,0] 2:z_center 0.8223839064038068\n",
      "M[13,0] 2:z_center 0.8579556424854884\n",
      "M[13,0] 3:z_center 0.8027754187855024\n",
      "M[13,0] M[9,0] 0.826271625881738\n",
      "M[15,2] M[15,0] -0.9107647174546952\n",
      "M[16,2] M[16,0] 0.9240312122697644\n",
      "M[20,2] M[20,0] 0.8913438340710934\n",
      "M[21,1] 4:y_center 0.8441386632941699\n",
      "M[24,2] M[24,0] 0.9408800140987156\n",
      "M[25,2] M[25,0] 0.9557319114718621\n",
      "M[26,2] M[26,0] 0.8561227039264842\n",
      "M[28,2] M[28,0] 0.9474148848008342\n",
      "M[29,2] M[29,0] 0.9623294422062945\n",
      "M[30,2] M[30,0] 0.8267311015792825\n"
     ]
    }
   ],
   "source": [
    "#print(fpars, matrx)\n",
    "from datetime import datetime\n",
    "pl.figure()\n",
    "corr = matrx.copy()\n",
    "ser = np.sqrt(np.diag(corr))\n",
    "corr = corr / ser \n",
    "corr = corr.T / ser\n",
    "pl.imshow(corr, cmap='gist_ncar', vmin=-1)\n",
    "pl.colorbar()\n",
    "pl.title(\"correlation matrix\")\n",
    "print(\"Correlation above 80%\")\n",
    "for i in range(corr.shape[0]):\n",
    "    for j in range(i-1):\n",
    "        if abs(corr[i,j])>0.8:\n",
    "            print(pnames[i],pnames[j],corr[i,j])"
   ]
  },
  {
   "cell_type": "code",
   "execution_count": 25,
   "metadata": {},
   "outputs": [
    {
     "data": {
      "application/vnd.jupyter.widget-view+json": {
       "model_id": "7f93e6c57b8c45b4a524ae2bbefddbd7",
       "version_major": 2,
       "version_minor": 0
      },
      "text/plain": [
       "Canvas(toolbar=Toolbar(toolitems=[('Home', 'Reset original view', 'home', 'home'), ('Back', 'Back to previous …"
      ]
     },
     "metadata": {},
     "output_type": "display_data"
    },
    {
     "data": {
      "application/vnd.jupyter.widget-view+json": {
       "model_id": "5874d50e53ae434682d2d0f5891c4ccb",
       "version_major": 2,
       "version_minor": 0
      },
      "text/plain": [
       "Canvas(toolbar=Toolbar(toolitems=[('Home', 'Reset original view', 'home', 'home'), ('Back', 'Back to previous …"
      ]
     },
     "metadata": {},
     "output_type": "display_data"
    },
    {
     "data": {
      "application/vnd.jupyter.widget-view+json": {
       "model_id": "be088d8f81434904b4e605077ab4ea4c",
       "version_major": 2,
       "version_minor": 0
      },
      "text/plain": [
       "Canvas(toolbar=Toolbar(toolitems=[('Home', 'Reset original view', 'home', 'home'), ('Back', 'Back to previous …"
      ]
     },
     "metadata": {},
     "output_type": "display_data"
    },
    {
     "data": {
      "text/plain": [
       "[]"
      ]
     },
     "execution_count": 25,
     "metadata": {},
     "output_type": "execute_result"
    }
   ],
   "source": [
    "ycalc = calchkl2(allc, *fpars)\n",
    "pl.figure()\n",
    "pl.plot(allc.eta, ycalc*allc.ihkl2+allc.ihkl2, \",\")\n",
    "pl.plot(allc.eta,allc.ihkl2,',')\n",
    "pl.figure()\n",
    "pl.plot(allc.eta, ycalc, \",\")\n",
    "pl.figure()\n",
    "pl.hist( ycalc, bins=1024)\n",
    "pl.semilogy()"
   ]
  },
  {
   "cell_type": "code",
   "execution_count": 26,
   "metadata": {},
   "outputs": [
    {
     "name": "stdout",
     "output_type": "stream",
     "text": [
      "allc.shape (367996,)\n",
      "ycalc.shape (411971,)\n",
      "type(ycalc) <class 'numpy.ndarray'>\n"
     ]
    }
   ],
   "source": [
    "allc.filter( abs(ycalc)<.0003 )\n",
    "\n",
    "\n",
    "print('allc.shape', allc.sc.shape)\n",
    "print('ycalc.shape', ycalc.shape)\n",
    "print('type(ycalc)', type(ycalc))"
   ]
  },
  {
   "cell_type": "code",
   "execution_count": 27,
   "metadata": {},
   "outputs": [
    {
     "data": {
      "application/vnd.jupyter.widget-view+json": {
       "model_id": "27e5cdfb10fe4c649ce32b9240d61de4",
       "version_major": 2,
       "version_minor": 0
      },
      "text/plain": [
       "Canvas(toolbar=Toolbar(toolitems=[('Home', 'Reset original view', 'home', 'home'), ('Back', 'Back to previous …"
      ]
     },
     "metadata": {},
     "output_type": "display_data"
    },
    {
     "data": {
      "text/plain": [
       "[<matplotlib.lines.Line2D at 0x15433a93ecb0>]"
      ]
     },
     "execution_count": 27,
     "metadata": {},
     "output_type": "execute_result"
    }
   ],
   "source": [
    "ycalc = calchkl2(allc, *fpars)\n",
    "pl.figure()\n",
    "pl.plot(allc.Number_of_pixels,ycalc,'.', alpha=0.01)"
   ]
  },
  {
   "cell_type": "code",
   "execution_count": 28,
   "metadata": {
    "scrolled": true
   },
   "outputs": [
    {
     "name": "stdout",
     "output_type": "stream",
     "text": [
      "time 2023-09-27 12:15:11\n",
      "toc 34.901761054992676\n"
     ]
    }
   ],
   "source": [
    "# repeat fitting with cleaned data\n",
    "p2 = [p for p in fpars]  \n",
    "tic = time.time()\n",
    "fpars2, matrx2 = scipy.optimize.curve_fit( calchkl2, allc, np.zeros(allc.nrows), p2 )\n",
    "print('time', datetime.now().strftime(\"%Y-%m-%d %H:%M:%S\"))\n",
    "print('toc', time.time()-tic)"
   ]
  },
  {
   "cell_type": "code",
   "execution_count": 29,
   "metadata": {},
   "outputs": [
    {
     "data": {
      "application/vnd.jupyter.widget-view+json": {
       "model_id": "c18c0a9a23a1461a8e5698d2b725976b",
       "version_major": 2,
       "version_minor": 0
      },
      "text/plain": [
       "Canvas(toolbar=Toolbar(toolitems=[('Home', 'Reset original view', 'home', 'home'), ('Back', 'Back to previous …"
      ]
     },
     "metadata": {},
     "output_type": "display_data"
    },
    {
     "data": {
      "application/vnd.jupyter.widget-view+json": {
       "model_id": "58287ed515744a17bf89e27768b8adb2",
       "version_major": 2,
       "version_minor": 0
      },
      "text/plain": [
       "Canvas(toolbar=Toolbar(toolitems=[('Home', 'Reset original view', 'home', 'home'), ('Back', 'Back to previous …"
      ]
     },
     "metadata": {},
     "output_type": "display_data"
    },
    {
     "data": {
      "application/vnd.jupyter.widget-view+json": {
       "model_id": "f73fb18340f0413fad710fb25918fbe0",
       "version_major": 2,
       "version_minor": 0
      },
      "text/plain": [
       "Canvas(toolbar=Toolbar(toolitems=[('Home', 'Reset original view', 'home', 'home'), ('Back', 'Back to previous …"
      ]
     },
     "metadata": {},
     "output_type": "display_data"
    },
    {
     "name": "stdout",
     "output_type": "stream",
     "text": [
      "[[ 6.58187003e-02 -3.31679418e-01 -1.14923596e-03]\n",
      " [-2.33867683e-01  9.99911160e-01 -9.33194934e-04]\n",
      " [-1.70005934e+00  5.92359396e-01 -7.05117236e-05]\n",
      " [-7.07122845e+00 -1.71763658e+00  2.50340945e-03]\n",
      " [ 3.33918095e-01  2.42655654e+00 -2.12527325e-03]\n",
      " [ 6.02799416e-02  2.80312182e+00 -9.05860773e-04]\n",
      " [-5.09481659e+00 -5.51734043e+00  2.19054745e-03]\n",
      " [-3.73162608e+00 -3.53037099e+00  1.44701046e-03]\n",
      " [-6.35202961e-01 -1.18281385e+00 -1.43065131e-03]\n",
      " [ 6.61427378e-02 -2.54170123e-01 -4.23147410e-04]\n",
      " [-4.56141752e-01  1.08223926e-01  5.44594909e-04]\n",
      " [-4.76627572e+00 -8.45146694e-01  3.11239887e-03]\n",
      " [-1.99365220e-01  4.07648310e-01 -8.62311831e-04]\n",
      " [ 4.42929334e-01  2.95817184e-01 -1.14061609e-04]\n",
      " [ 2.29014032e-01  2.27443377e-01  1.47265997e-04]\n",
      " [-3.74139155e-01 -2.25020901e-01  4.20327342e-04]\n",
      " [ 5.73223327e-01  4.89906259e-02 -2.61414718e-05]\n",
      " [ 6.51382129e-01 -2.12313875e-01 -2.11557330e-04]\n",
      " [ 8.48793495e-01  1.42968393e-01 -1.85893640e-04]\n",
      " [ 2.37389234e-02  8.33328313e-01  5.46199300e-04]\n",
      " [ 2.71508601e+00  6.97015477e-01  1.06671192e-03]\n",
      " [ 9.55982238e-01 -4.23769158e-01 -2.18649945e-04]\n",
      " [ 9.52259248e-01  6.76390638e-01 -5.65457861e-04]\n",
      " [ 1.48669952e+00  8.52359567e-01 -9.32273490e-04]\n",
      " [ 3.61070353e+00  2.53208921e+00  8.82715313e-04]\n",
      " [ 2.14607922e+00  1.27865328e+00  3.89123801e-04]\n",
      " [ 2.19174223e-01 -1.13044380e+00 -7.36630368e-04]\n",
      " [-2.46190553e-03 -1.46381986e+00 -1.41050933e-03]\n",
      " [ 4.16783640e+00  1.20212258e+00  8.35918562e-04]\n",
      " [ 3.00392645e+00 -6.72294936e-01  3.49622744e-04]\n",
      " [ 1.37190710e+00  1.43695696e-01 -6.73933332e-04]\n",
      " [ 3.40290210e-01  1.23812513e+00 -1.46055055e-03]]\n"
     ]
    }
   ],
   "source": [
    "ycalc = calchkl2(allc, *fpars2)\n",
    "pl.figure()\n",
    "pl.plot(allc.eta, ycalc*allc.ihkl2+allc.ihkl2, \",\")\n",
    "# pl.ylim(9.98, 10.02)\n",
    "pl.figure()\n",
    "pl.plot(allc.eta, ycalc, \",\")\n",
    "pl.figure()\n",
    "pl.hist( ycalc, bins=1024)\n",
    "pl.semilogy()\n",
    "\n",
    "p16 = mp31_32(fpars2[framepars:])\n",
    "print(p16)"
   ]
  },
  {
   "cell_type": "code",
   "execution_count": 30,
   "metadata": {},
   "outputs": [
    {
     "data": {
      "application/vnd.jupyter.widget-view+json": {
       "model_id": "6926935866e6494799a5e933b84b5560",
       "version_major": 2,
       "version_minor": 0
      },
      "text/plain": [
       "Canvas(toolbar=Toolbar(toolitems=[('Home', 'Reset original view', 'home', 'home'), ('Back', 'Back to previous …"
      ]
     },
     "metadata": {},
     "output_type": "display_data"
    },
    {
     "data": {
      "application/vnd.jupyter.widget-view+json": {
       "model_id": "409b95d51ae4490a9e609aef3fb20305",
       "version_major": 2,
       "version_minor": 0
      },
      "text/plain": [
       "Canvas(toolbar=Toolbar(toolitems=[('Home', 'Reset original view', 'home', 'home'), ('Back', 'Back to previous …"
      ]
     },
     "metadata": {},
     "output_type": "display_data"
    },
    {
     "data": {
      "application/vnd.jupyter.widget-view+json": {
       "model_id": "e95153ea999f48bf9a98d4f6a76b9f8b",
       "version_major": 2,
       "version_minor": 0
      },
      "text/plain": [
       "Canvas(toolbar=Toolbar(toolitems=[('Home', 'Reset original view', 'home', 'home'), ('Back', 'Back to previous …"
      ]
     },
     "metadata": {},
     "output_type": "display_data"
    },
    {
     "data": {
      "application/vnd.jupyter.widget-view+json": {
       "model_id": "a9bc2d1037494b5cb90d87e9d6688127",
       "version_major": 2,
       "version_minor": 0
      },
      "text/plain": [
       "Canvas(toolbar=Toolbar(toolitems=[('Home', 'Reset original view', 'home', 'home'), ('Back', 'Back to previous …"
      ]
     },
     "metadata": {},
     "output_type": "display_data"
    }
   ],
   "source": [
    "pl.figure()\n",
    "for i in frms:\n",
    "    ycalc = calchkl2(cf[i], *fpars2)\n",
    "    if i == 1:\n",
    "        pl.plot(cf[i].eta,cf[i].ihkl2,'_',markersize=1, color='k', label='ihkl(210) ')\n",
    "        pl.plot(cf[i].eta,cf[i].hkl2,'.',markersize=1, label='hkl (210) before correction')\n",
    "    pl.plot(cf[i].eta,cf[i].ihkl2,'_',markersize=1)\n",
    "    pl.plot(cf[i].eta,cf[i].hkl2,'.',markersize=1)\n",
    "pl.xlabel('Azimuth (degree)')\n",
    "pl.ylabel('$H^2$')\n",
    "pl.legend(loc='upper right')\n",
    "pl.ylim(0.996, 1.004)\n",
    "pl.ylim(4.985, 5.015)\n",
    "\n",
    "\n",
    "pl.figure()\n",
    "for i in frms:\n",
    "    ycalc = calchkl2(cf[i], *fpars2)\n",
    "    if i == 1:\n",
    "        pl.plot(cf[i].eta,cf[i].ihkl2,'.',markersize=1, label='ihkl(210) ')\n",
    "        pl.plot(cf[i].eta, ycalc*cf[i].ihkl2+cf[i].ihkl2, \".\",markersize=1, label='hkl (210) after correction')\n",
    "    pl.plot(cf[i].eta,cf[i].ihkl2,'.',markersize=1)\n",
    "    pl.plot(cf[i].eta, ycalc*cf[i].ihkl2+cf[i].ihkl2, \".\",markersize=1)\n",
    "pl.xlabel('Azimuth (degree)')\n",
    "pl.ylabel('$H^2$')\n",
    "pl.legend(loc='upper right')\n",
    "pl.ylim(0.996, 1.004)\n",
    "pl.ylim(4.985, 5.015)\n",
    "\n",
    "\n",
    "\n",
    "pl.figure()\n",
    "for i in frms:\n",
    "    ycalc = calchkl2(cf[i], *fpars2)\n",
    "    if i == 1:\n",
    "        pl.plot(cf[i].eta,cf[i].ihkl2,'_',markersize=1, color='k', label='ihkl (100)')\n",
    "        pl.plot(cf[i].eta,cf[i].hkl2,'.',markersize=1, label='hkl (100) before correction')\n",
    "    pl.plot(cf[i].eta,cf[i].ihkl2,'_',markersize=1)\n",
    "    pl.plot(cf[i].eta,cf[i].hkl2,'.',markersize=1)\n",
    "pl.xlabel('Azimuth (degree)')\n",
    "pl.ylabel('$H^2$')\n",
    "pl.legend(loc='upper right')\n",
    "pl.ylim(0.996, 1.004)\n",
    "pl.ylim(0.985, 1.015)\n",
    "\n",
    "\n",
    "pl.figure()\n",
    "for i in frms:\n",
    "    ycalc = calchkl2(cf[i], *fpars2)\n",
    "    if i == 1:\n",
    "        pl.plot(cf[i].eta,cf[i].ihkl2,'.',markersize=1, label='ihkl (100)')\n",
    "        pl.plot(cf[i].eta, ycalc*cf[i].ihkl2+cf[i].ihkl2, \".\",markersize=1, label='hkl (100) after correction')\n",
    "    pl.plot(cf[i].eta,cf[i].ihkl2,'.',markersize=1)\n",
    "    pl.plot(cf[i].eta, ycalc*cf[i].ihkl2+cf[i].ihkl2, \".\",markersize=1)\n",
    "pl.xlabel('Azimuth (degree)')\n",
    "pl.ylabel('$H^2$')\n",
    "pl.legend(loc='upper right')\n",
    "pl.ylim(0.996, 1.004)\n",
    "pl.ylim(0.985, 1.015)\n",
    "\n",
    "\n",
    "\n",
    "np.savetxt(\"fitted_eiger_pars2.dat\",fpars2)\n",
    "np.savetxt(\"fitted_eiger_framepars2.dat\",p16)"
   ]
  },
  {
   "cell_type": "code",
   "execution_count": 31,
   "metadata": {},
   "outputs": [
    {
     "name": "stdout",
     "output_type": "stream",
     "text": [
      "1:distance/a 35.377574616605095\n",
      "1:y_center 2093.8549347571666\n",
      "1:z_center 2120.107550618203\n",
      "1:tilt_y 0.0006192328693350761\n",
      "1:tilt_z -0.0016862205129217244\n",
      "2:distance/a 35.38358504792913\n",
      "2:y_center 1560.2052163817698\n",
      "2:z_center 2119.9786713647554\n",
      "2:tilt_y 0.00059720317604637\n",
      "2:tilt_z -0.0012439505542631824\n",
      "3:distance/a 35.38597615242413\n",
      "3:y_center 1560.286280353019\n",
      "3:z_center 2660.8555293004642\n",
      "3:tilt_y 0.0007229684713541034\n",
      "3:tilt_z -0.0012357626459110944\n",
      "4:distance/a 35.39439947584305\n",
      "4:y_center 1560.3229108048333\n",
      "4:z_center 3194.2307388923277\n",
      "4:tilt_y 0.000835621250725883\n",
      "4:tilt_z -0.0012061979326253843\n",
      "a0 4.158237583036333\n",
      "M[0,0] 0.06581870030184389\n",
      "M[0,1] -0.33167941841419263\n",
      "M[0,2] -0.0011492359581567028\n",
      "M[1,0] -0.2338676827512559\n",
      "M[1,1] 0.9999111604374242\n",
      "M[1,2] -0.0009331949340618836\n",
      "M[2,0] -1.7000593361439595\n",
      "M[2,1] 0.5923593964650528\n",
      "M[2,2] -7.051172361749558e-05\n",
      "M[3,0] -7.071228446219838\n",
      "M[3,1] -1.717636582223073\n",
      "M[3,2] 0.0025034094483860686\n",
      "M[4,0] 0.33391809464072697\n",
      "M[4,1] 2.4265565388527737\n",
      "M[4,2] -0.002125273253726099\n",
      "M[5,0] 0.06027994163902208\n",
      "M[5,1] 2.803121816223365\n",
      "M[5,2] -0.0009058607731634052\n",
      "M[6,0] -5.0948165895414395\n",
      "M[6,1] -5.517340426541095\n",
      "M[6,2] 0.0021905474517569263\n",
      "M[7,0] -3.731626082992076\n",
      "M[7,1] -3.530370986449119\n",
      "M[7,2] 0.001447010464374478\n",
      "M[8,0] -0.6352029605461\n",
      "M[8,1] -1.1828138468666176\n",
      "M[8,2] -0.0014306513144132903\n",
      "M[9,0] 0.06614273783581316\n",
      "M[9,1] -0.254170122692223\n",
      "M[9,2] -0.0004231474104680005\n",
      "M[10,0] -0.4561417520014906\n",
      "M[10,1] 0.1082239264897811\n",
      "M[10,2] 0.0005445949093953103\n",
      "M[11,0] -4.766275721620123\n",
      "M[11,1] -0.8451466944704475\n",
      "M[11,2] 0.003112398868329583\n",
      "M[12,0] -0.19936522019476433\n",
      "M[12,1] 0.40764830953250847\n",
      "M[12,2] -0.0008623118313045435\n",
      "M[13,0] 0.44292933353962727\n",
      "M[13,1] 0.2958171837928328\n",
      "M[13,2] -0.0001140616087586979\n",
      "M[14,0] 0.22901403194331246\n",
      "M[14,1] 0.22744337692391914\n",
      "M[14,2] 0.00014726599687043922\n",
      "M[15,0] -0.37413915548531756\n",
      "M[15,1] -0.22502090053690604\n",
      "M[15,2] 0.00042032734172168964\n",
      "M[16,0] 0.5732233266627855\n",
      "M[16,1] 0.048990625927386164\n",
      "M[16,2] -2.6141471837171737e-05\n",
      "M[17,0] 0.6513821293339922\n",
      "M[17,1] -0.2123138749202809\n",
      "M[17,2] -0.00021155732959818514\n",
      "M[18,0] 0.8487934945896216\n",
      "M[18,1] 0.14296839256243982\n",
      "M[18,2] -0.0001858936402322348\n",
      "M[19,0] 0.023738923438486617\n",
      "M[19,1] 0.8333283132914973\n",
      "M[19,2] 0.0005461992997359526\n",
      "M[20,0] 2.7150860112229065\n",
      "M[20,1] 0.6970154772214313\n",
      "M[20,2] 0.0010667119230739059\n",
      "M[21,0] 0.9559822381781843\n",
      "M[21,1] -0.4237691577766506\n",
      "M[21,2] -0.00021864994520777602\n",
      "M[22,0] 0.952259248440855\n",
      "M[22,1] 0.676390638279291\n",
      "M[22,2] -0.0005654578613832446\n",
      "M[23,0] 1.4866995154805334\n",
      "M[23,1] 0.8523595674000589\n",
      "M[23,2] -0.0009322734903760837\n",
      "M[24,0] 3.6107035342283322\n",
      "M[24,1] 2.532089205900605\n",
      "M[24,2] 0.0008827153128887106\n",
      "M[25,0] 2.1460792154900297\n",
      "M[25,1] 1.278653275170477\n",
      "M[25,2] 0.0003891238009965683\n",
      "M[26,0] 0.2191742234975141\n",
      "M[26,1] -1.1304437992934888\n",
      "M[26,2] -0.0007366303679724464\n",
      "M[27,0] -0.0024619055348800802\n",
      "M[27,1] -1.4638198633341195\n",
      "M[27,2] -0.0014105093263280498\n",
      "M[28,0] 4.167836401230083\n",
      "M[28,1] 1.2021225824336514\n",
      "M[28,2] 0.000835918561645594\n",
      "M[29,0] 3.003926445930798\n",
      "M[29,1] -0.6722949362857685\n",
      "M[29,2] 0.0003496227442297863\n",
      "M[30,0] 1.3719070951846428\n",
      "M[30,1] 0.14369569630416845\n",
      "M[30,2] -0.0006739333318143597\n"
     ]
    }
   ],
   "source": [
    "# Write spatially corrected files\n",
    "a0 = fpars2[framepars-1]\n",
    "for i in frms:\n",
    "    p = read_par_file(\"eigerSpatial/par/%d.par\"%(i))\n",
    "    k = i-1\n",
    "    p.parameters.update( {'distance' : fpars2[k*5]*a0,\n",
    "                          'y_center' : fpars2[k*5+1],\n",
    "                          'z_center' : fpars2[k*5+2],\n",
    "                          'tilt_y' : fpars2[k*5+3],\n",
    "                          'tilt_z' : fpars2[k*5+4] } )\n",
    "    p.saveparameters(\"eigerSpatial/par/%ds.par\"%(i))\n",
    "\n",
    "\n",
    "for n,v in zip(pnames, fpars2):\n",
    "    print(n,v)"
   ]
  },
  {
   "cell_type": "code",
   "execution_count": 32,
   "metadata": {},
   "outputs": [
    {
     "name": "stdout",
     "output_type": "stream",
     "text": [
      "(4371, 4150)\n",
      "(4371, 4150)\n",
      "[[   0    1    2 ... 4147 4148 4149]\n",
      " [   0    1    2 ... 4147 4148 4149]\n",
      " [   0    1    2 ... 4147 4148 4149]\n",
      " ...\n",
      " [   0    1    2 ... 4147 4148 4149]\n",
      " [   0    1    2 ... 4147 4148 4149]\n",
      " [   0    1    2 ... 4147 4148 4149]]\n",
      "[[   0    0    0 ...    0    0    0]\n",
      " [   1    1    1 ...    1    1    1]\n",
      " [   2    2    2 ...    2    2    2]\n",
      " ...\n",
      " [4368 4368 4368 ... 4368 4368 4368]\n",
      " [4369 4369 4369 ... 4369 4369 4369]\n",
      " [4370 4370 4370 ... 4370 4370 4370]]\n",
      "(4371, 4150)\n"
     ]
    },
    {
     "name": "stderr",
     "output_type": "stream",
     "text": [
      "/local/slurmtmp.1482856/ipykernel_1239302/4157581939.py:8: DeprecationWarning: `np.int` is a deprecated alias for the builtin `int`. To silence this warning, use `int` by itself. Doing this will not modify any behavior and is safe. When replacing `np.int`, you may wish to use e.g. `np.int64` or `np.int32` to specify the precision. If you wish to review your current use, check the release note link for additional information.\n",
      "Deprecated in NumPy 1.20; for more details and guidance: https://numpy.org/devdocs/release/1.20.0-notes.html#deprecations\n",
      "  m = np.zeros(s.shape, np.int)-1\n"
     ]
    },
    {
     "data": {
      "application/vnd.jupyter.widget-view+json": {
       "model_id": "36275a0e2e604aee8db4314421bc7963",
       "version_major": 2,
       "version_minor": 0
      },
      "text/plain": [
       "Canvas(toolbar=Toolbar(toolitems=[('Home', 'Reset original view', 'home', 'home'), ('Back', 'Back to previous …"
      ]
     },
     "metadata": {},
     "output_type": "display_data"
    },
    {
     "data": {
      "text/plain": [
       "<matplotlib.colorbar.Colorbar at 0x154339a60850>"
      ]
     },
     "execution_count": 32,
     "metadata": {},
     "output_type": "execute_result"
    }
   ],
   "source": [
    "# Verify and create conventional distortion files\n",
    "s, f = np.mgrid[0:4371,0:4150]\n",
    "\n",
    "print(s.shape)\n",
    "print(f.shape)\n",
    "print(f)\n",
    "print(s)\n",
    "m = np.zeros(s.shape, np.int)-1\n",
    "print(m.shape)\n",
    "#    fs = 1030\n",
    "#    ss = 514\n",
    "#    fo = [ 0,  10,   20,   30]\n",
    "#    so = [ 0, 37, 2*37, 37*3, 37*4, 37*5, 37*6, 37*7]\n",
    "for i in range(8):\n",
    "    for j in range(4):\n",
    "        a = module(m,i,j)\n",
    "        a[:,:] = i*4+j\n",
    "# Make an image of which module is this pixel\n",
    "# fill gaps: ... yes, this could be more elegant\n",
    "m[514:514+37//2,:]=m[513,:]\n",
    "m[514+37//2:514+37,:]=m[514+37+1,:]\n",
    "\n",
    "m[514*2+37:514*2+37+37//2,:]=m[514*2+37-1,:]\n",
    "m[514*2+37+37//2:514*2+37*2,:]=m[514*2+2*37+1,:]\n",
    "\n",
    "m[514*3+37*2:514*3+37*2+37//2,:]=m[514*3+37*2-1,:]\n",
    "m[514*3+37*2+37//2:514*3+37*3,:]=m[514*3+3*37+1,:]\n",
    "\n",
    "m[514*4+37*3:514*4+37*3+37//2,:]=m[514*4+3*37-1,:]\n",
    "m[514*4+37*3+37//2:514*4+37*4,:]=m[514*4+4*37+1,:]\n",
    "\n",
    "m[514*5+37*4:514*5+37*4+37//2,:]=m[514*5+4*37-1,:]\n",
    "m[514*5+37*4+37//2:514*5+37*5,:]=m[514*5+5*37+1,:]\n",
    "\n",
    "m[514*6+37*5:514*6+37*5+37//2,:]=m[514*6+5*37-1,:]\n",
    "m[514*6+37*5+37//2:514*6+37*6,:]=m[514*6+6*37+1,:]\n",
    "\n",
    "m[514*7+37*6:514*7+37*6+37//2,:]=m[514*7+6*37-1,:]\n",
    "m[514*7+37*6+37//2:514*7+37*7,:]=m[514*7+7*37+1,:]\n",
    "\n",
    "\n",
    "m[:,1028:1034]=m[:,1025][:,np.newaxis]\n",
    "m[:,1033:1040]=m[:,1041][:,np.newaxis]\n",
    "\n",
    "m[:,2068:2074]=m[:,2065][:,np.newaxis]\n",
    "m[:,2073:2080]=m[:,2081][:,np.newaxis]\n",
    "\n",
    "m[:,3108:3114]=m[:,3105][:,np.newaxis]\n",
    "m[:,3113:3120]=m[:,3211][:,np.newaxis]\n",
    "\n",
    "# verify we did not mess up the real pixels:\n",
    "for i in range(8):\n",
    "    for j in range(4):\n",
    "        a = module(m,i,j)\n",
    "        assert((a[:,:] == i*4+j).all())\n",
    "pl.figure()\n",
    "pl.imshow(m)\n",
    "pl.colorbar()"
   ]
  },
  {
   "cell_type": "code",
   "execution_count": 33,
   "metadata": {},
   "outputs": [],
   "source": [
    "# full image spatial:\n",
    "sc,fc = do_spatial(s.ravel(),f.ravel(),m.ravel(), p16)\n",
    "sc.shape=s.shape\n",
    "fc.shape=f.shape\n",
    "ds = sc - s      # LUT\n",
    "df = fc - f      # \n",
    "\n",
    "fabio.edfimage.edfimage((fc-f).astype(np.float32)).write(\"e2dx.edf\")\n",
    "fabio.edfimage.edfimage((sc-s).astype(np.float32)).write(\"e2dy.edf\")\n",
    "\n",
    "\n",
    "\n",
    "\n",
    "\n",
    "df = fabio.open(\"e2dx.edf\").data\n",
    "ds = fabio.open(\"e2dy.edf\").data"
   ]
  },
  {
   "cell_type": "code",
   "execution_count": 35,
   "metadata": {},
   "outputs": [
    {
     "name": "stderr",
     "output_type": "stream",
     "text": [
      "WARNING:root:titles are sc  fc  omega\n",
      "WARNING:root:titles are sc  fc  omega\n"
     ]
    },
    {
     "name": "stdout",
     "output_type": "stream",
     "text": [
      "[13.48734885 19.11855669 23.47063384 27.16621263 30.44598974 33.43320967\n",
      " 38.79692991 41.2540689  43.59646365 45.84228161 48.00565092 50.09782516\n",
      " 52.12795019 56.03108225]\n",
      "{'omegasign': 1.0, 'z_center': 2120.107550618203, 'y_center': 2093.8549347571666, 'distance': 147.10836036743947, 'z_size': 0.075, 'y_size': 0.075, 'tilt_z': -0.0016862205129217244, 'tilt_y': 0.0006192328693350761, 'tilt_x': 1.4834851722994806e-06, 'fit_tolerance': 0.025, 'wavelength': 0.9762535309700807, 'wedge': 0.0, 'chi': 0.0, 'cell__a': 4.156826, 'cell__b': 4.156826, 'cell__c': 4.156826, 'cell_alpha': 90.0, 'cell_beta': 90.0, 'cell_gamma': 90.0, 'cell_lattice_[P,A,B,C,I,F,R]': 'P', 'o11': 1, 'o12': 0, 'o21': 0, 'o22': -1, 't_x': 0, 't_y': 0, 't_z': 0, 'no_bins': 10000, 'min_bin_prob': 1e-05, 'weight_hist_intensities': 0}\n",
      "\n",
      "\n",
      "  1 \n",
      "\n"
     ]
    },
    {
     "name": "stderr",
     "output_type": "stream",
     "text": [
      "WARNING:root:titles are sc  fc  omega\n",
      "WARNING:root:titles are sc  fc  omega\n"
     ]
    },
    {
     "name": "stdout",
     "output_type": "stream",
     "text": [
      "\n",
      "  2 \n",
      "\n"
     ]
    },
    {
     "name": "stderr",
     "output_type": "stream",
     "text": [
      "WARNING:root:titles are sc  fc  omega\n",
      "WARNING:root:titles are sc  fc  omega\n"
     ]
    },
    {
     "name": "stdout",
     "output_type": "stream",
     "text": [
      "\n",
      "  3 \n",
      "\n"
     ]
    },
    {
     "name": "stderr",
     "output_type": "stream",
     "text": [
      "WARNING:root:titles are sc  fc  omega\n",
      "WARNING:root:titles are sc  fc  omega\n"
     ]
    },
    {
     "name": "stdout",
     "output_type": "stream",
     "text": [
      "\n",
      "  4 \n",
      "\n",
      "time 2023-09-27 12:16:52\n",
      "toc 1.1630425453186035\n"
     ]
    }
   ],
   "source": [
    "tic = time.time()\n",
    "\n",
    "\n",
    "t1 = transformer()\n",
    "\n",
    "t1.loadfiltered(\"eigerSpatial/flt/1.flt\")\n",
    "c1 = t1.colfile\n",
    "c1.sc[:] = ds[np.round( c1.s_raw[:].astype(int) ), np.round( c1.f_raw[:].astype(int) ) ] + c1.s_raw[:]\n",
    "c1.fc[:] = df[np.round( c1.s_raw[:].astype(int) ), np.round( c1.f_raw[:].astype(int) ) ] + c1.f_raw[:]\n",
    "t1.loadfileparameters(\"eigerSpatial/par/1s.par\")\n",
    "t1.addcellpeaks()\n",
    "print(t1.theorytth)\n",
    "print(t1.parameterobj.get_parameters())\n",
    "print()\n",
    "t1.compute_tth_eta()\n",
    "\n",
    "print()\n",
    "print('  1 ')\n",
    "print()\n",
    "\n",
    "t2 = transformer()\n",
    "t2.loadfiltered(\"eigerSpatial/flt/2.flt\")\n",
    "c = t2.colfile\n",
    "c.sc[:] = ds[np.round( c.s_raw[:].astype(int) ), np.round( c.f_raw[:].astype(int) ) ] + c.s_raw[:]\n",
    "c.fc[:] = df[np.round( c.s_raw[:].astype(int) ), np.round( c.f_raw[:].astype(int) ) ] + c.f_raw[:]\n",
    "t2.loadfileparameters(\"eigerSpatial/par/2s.par\")\n",
    "t2.compute_tth_eta()\n",
    "\n",
    "print()\n",
    "print('  2 ')\n",
    "print()\n",
    "\n",
    "\n",
    "t3 = transformer()\n",
    "t3.loadfiltered(\"eigerSpatial/flt/3.flt\")\n",
    "c = t3.colfile\n",
    "c.sc[:] = ds[np.round( c.s_raw[:].astype(int) ), np.round( c.f_raw[:].astype(int) ) ] + c.s_raw[:]\n",
    "c.fc[:] = df[np.round( c.s_raw[:].astype(int) ), np.round( c.f_raw[:].astype(int) ) ] + c.f_raw[:]\n",
    "t3.loadfileparameters(\"eigerSpatial/par/3s.par\")\n",
    "t3.compute_tth_eta()\n",
    "\n",
    "print()\n",
    "print('  3 ')\n",
    "print()\n",
    "\n",
    "\n",
    "\n",
    "t4 = transformer()\n",
    "t4.loadfiltered(\"eigerSpatial/flt/4.flt\")\n",
    "c = t4.colfile\n",
    "c.sc[:] = ds[np.round( c.s_raw[:].astype(int) ), np.round( c.f_raw[:].astype(int) ) ] + c.s_raw[:]\n",
    "c.fc[:] = df[np.round( c.s_raw[:].astype(int) ), np.round( c.f_raw[:].astype(int) ) ] + c.f_raw[:]\n",
    "t4.loadfileparameters(\"eigerSpatial/par/4s.par\")\n",
    "t4.compute_tth_eta()\n",
    "\n",
    "print()\n",
    "print('  4 ')\n",
    "print()\n",
    "\n",
    "\n",
    "\n",
    "# t5 = transformer()\n",
    "# t5.loadfiltered(\"eigerSpatial/flt/5.flt\")\n",
    "# c = t5.colfile\n",
    "# c.sc[:] = ds[np.round( c.s_raw[:].astype(int) ), np.round( c.f_raw[:].astype(int) ) ] + c.s_raw[:]\n",
    "# c.fc[:] = df[np.round( c.s_raw[:].astype(int) ), np.round( c.f_raw[:].astype(int) ) ] + c.f_raw[:]\n",
    "# t4.loadfileparameters(\"eigerSpatial/par/5s.par\")\n",
    "# t5.compute_tth_eta()\n",
    "\n",
    "# print()\n",
    "# print('  5 ')\n",
    "# print()\n",
    "\n",
    "\n",
    "\n",
    "\n",
    "# t6 = transformer()\n",
    "# t6.loadfiltered(\"eigerSpatial/flt/6.flt\")\n",
    "# c = t6.colfile\n",
    "# c.sc[:] = ds[np.round( c.s_raw[:].astype(int) ), np.round( c.f_raw[:].astype(int) ) ] + c.s_raw[:]\n",
    "# c.fc[:] = df[np.round( c.s_raw[:].astype(int) ), np.round( c.f_raw[:].astype(int) ) ] + c.f_raw[:]\n",
    "# t6.loadfileparameters(\"eigerSpatial/par/6s.par\")\n",
    "# t6.compute_tth_eta()\n",
    "# print()\n",
    "# print('  6 ')\n",
    "# print()\n",
    "\n",
    "\n",
    "print('time', datetime.now().strftime(\"%Y-%m-%d %H:%M:%S\"))\n",
    "print('toc', time.time()-tic)\n"
   ]
  },
  {
   "cell_type": "code",
   "execution_count": 36,
   "metadata": {},
   "outputs": [
    {
     "data": {
      "application/vnd.jupyter.widget-view+json": {
       "model_id": "542c02a08a054b0185bd33431d83e92a",
       "version_major": 2,
       "version_minor": 0
      },
      "text/plain": [
       "Canvas(toolbar=Toolbar(toolitems=[('Home', 'Reset original view', 'home', 'home'), ('Back', 'Back to previous …"
      ]
     },
     "metadata": {},
     "output_type": "display_data"
    },
    {
     "data": {
      "text/plain": [
       "(-179.9967161001967, 179.99353247315403)"
      ]
     },
     "execution_count": 36,
     "metadata": {},
     "output_type": "execute_result"
    }
   ],
   "source": [
    "\n",
    "pl.figure()\n",
    "pl.plot(t1.colfile.eta,t1.colfile.tth,\",\", label='Corrected data (hkl)')\n",
    "pl.plot(t2.colfile.eta,t2.colfile.tth,\",\")\n",
    "pl.plot(t3.colfile.eta,t3.colfile.tth,\",\")\n",
    "pl.plot(t4.colfile.eta,t4.colfile.tth,\",\")\n",
    "# pl.plot(t5.colfile.eta,t5.colfile.tth,\",\")\n",
    "# pl.plot(t6.colfile.eta,t6.colfile.tth,\",\")\n",
    "pl.xlabel('Azimuth (degree)')\n",
    "pl.ylabel('Two Theta (degree)')\n",
    "pl.legend(loc='upper right')\n",
    "for tth in t1.theorytth:\n",
    "    pl.hlines(y=tth, xmin=np.min(allc.eta), xmax=np.max(allc.eta), linewidth=1, color='k', linestyles='dashed', label='Calculated')\n",
    "pl.xlim(np.min(allc.eta), np.max(allc.eta))"
   ]
  },
  {
   "cell_type": "code",
   "execution_count": null,
   "metadata": {},
   "outputs": [],
   "source": []
  }
 ],
 "metadata": {
  "kernelspec": {
   "display_name": "Calibrate Module Geometry",
   "language": "python",
   "name": "my_kernel"
  },
  "language_info": {
   "codemirror_mode": {
    "name": "ipython",
    "version": 3
   },
   "file_extension": ".py",
   "mimetype": "text/x-python",
   "name": "python",
   "nbconvert_exporter": "python",
   "pygments_lexer": "ipython3",
   "version": "3.10.11"
  }
 },
 "nbformat": 4,
 "nbformat_minor": 4
}
